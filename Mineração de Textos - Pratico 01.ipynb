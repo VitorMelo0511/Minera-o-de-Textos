{
 "cells": [
  {
   "cell_type": "markdown",
   "metadata": {},
   "source": [
    "# Mineração de Textos"
   ]
  },
  {
   "cell_type": "markdown",
   "metadata": {},
   "source": [
    "* Mineração de textos usando Python"
   ]
  },
  {
   "cell_type": "code",
   "execution_count": 1,
   "metadata": {},
   "outputs": [],
   "source": [
    "import nltk # Biblioteca de Python para processamento de linguagem natural\n",
    "import re # Biblioteca muito utilizada para expressões regulares\n",
    "from nltk.corpus import wordnet"
   ]
  },
  {
   "cell_type": "markdown",
   "metadata": {},
   "source": [
    "### Operações com Strings e Listas"
   ]
  },
  {
   "cell_type": "code",
   "execution_count": 2,
   "metadata": {},
   "outputs": [
    {
     "data": {
      "text/plain": [
       "'Python eh uma linguagem fenomenal'"
      ]
     },
     "execution_count": 2,
     "metadata": {},
     "output_type": "execute_result"
    }
   ],
   "source": [
    "frase = 'Python eh uma linguagem fenomenal'; frase"
   ]
  },
  {
   "cell_type": "code",
   "execution_count": 3,
   "metadata": {},
   "outputs": [],
   "source": [
    "frase2 = ' para qualquer cientista de dados'"
   ]
  },
  {
   "cell_type": "code",
   "execution_count": 4,
   "metadata": {},
   "outputs": [
    {
     "data": {
      "text/plain": [
       "'Python eh uma linguagem fenomenal para qualquer cientista de dados'"
      ]
     },
     "execution_count": 4,
     "metadata": {},
     "output_type": "execute_result"
    }
   ],
   "source": [
    "frase + frase2 # Concatenando variaveis do tipo string"
   ]
  },
  {
   "cell_type": "code",
   "execution_count": 5,
   "metadata": {},
   "outputs": [
    {
     "data": {
      "text/plain": [
       "['Segunda', 'Terça', 'Quarta', 'Quinta', 'Sexta', 'Sabado']"
      ]
     },
     "execution_count": 5,
     "metadata": {},
     "output_type": "execute_result"
    }
   ],
   "source": [
    "['Segunda', 'Terça', 'Quarta'] + ['Quinta', 'Sexta', 'Sabado'] # Concatenando duas listas de strings"
   ]
  },
  {
   "cell_type": "code",
   "execution_count": 6,
   "metadata": {},
   "outputs": [
    {
     "data": {
      "text/plain": [
       "['Segunda', 'Terça', 'Quarta', 'Quinta-feira']"
      ]
     },
     "execution_count": 6,
     "metadata": {},
     "output_type": "execute_result"
    }
   ],
   "source": [
    "lista = ['Segunda','Terça', 'Quarta']\n",
    "lista.append('Quinta-feira')\n",
    "lista"
   ]
  },
  {
   "cell_type": "code",
   "execution_count": 7,
   "metadata": {},
   "outputs": [
    {
     "data": {
      "text/plain": [
       "' para qualquer '"
      ]
     },
     "execution_count": 7,
     "metadata": {},
     "output_type": "execute_result"
    }
   ],
   "source": [
    "frase2[0:15]"
   ]
  },
  {
   "cell_type": "code",
   "execution_count": 8,
   "metadata": {},
   "outputs": [
    {
     "data": {
      "text/plain": [
       "['Quinta-feira']"
      ]
     },
     "execution_count": 8,
     "metadata": {},
     "output_type": "execute_result"
    }
   ],
   "source": [
    "lista[3:8]"
   ]
  },
  {
   "cell_type": "markdown",
   "metadata": {},
   "source": [
    "### Objeto String"
   ]
  },
  {
   "cell_type": "code",
   "execution_count": 9,
   "metadata": {},
   "outputs": [
    {
     "data": {
      "text/plain": [
       "4"
      ]
     },
     "execution_count": 9,
     "metadata": {},
     "output_type": "execute_result"
    }
   ],
   "source": [
    "len(lista)"
   ]
  },
  {
   "cell_type": "code",
   "execution_count": 10,
   "metadata": {},
   "outputs": [
    {
     "data": {
      "text/plain": [
       "'Do Re Mi Fa Fa Fa Do Re Do RE RE RE'"
      ]
     },
     "execution_count": 10,
     "metadata": {},
     "output_type": "execute_result"
    }
   ],
   "source": [
    "frase2 = 'Do Re Mi Fa Fa Fa Do Re Do RE RE RE'; frase2"
   ]
  },
  {
   "cell_type": "code",
   "execution_count": 11,
   "metadata": {},
   "outputs": [
    {
     "data": {
      "text/plain": [
       "'do re mi fa fa fa do re do re re re'"
      ]
     },
     "execution_count": 11,
     "metadata": {},
     "output_type": "execute_result"
    }
   ],
   "source": [
    "frase2 = frase2.lower(); frase2"
   ]
  },
  {
   "cell_type": "code",
   "execution_count": 12,
   "metadata": {},
   "outputs": [
    {
     "data": {
      "text/plain": [
       "5"
      ]
     },
     "execution_count": 12,
     "metadata": {},
     "output_type": "execute_result"
    }
   ],
   "source": [
    "frase2.count('re')"
   ]
  },
  {
   "cell_type": "code",
   "execution_count": 13,
   "metadata": {},
   "outputs": [
    {
     "data": {
      "text/plain": [
       "'DO RE MI FA FA FA DO RE DO RE RE RE'"
      ]
     },
     "execution_count": 13,
     "metadata": {},
     "output_type": "execute_result"
    }
   ],
   "source": [
    "frase2 = frase2.upper();frase2"
   ]
  },
  {
   "cell_type": "code",
   "execution_count": 17,
   "metadata": {},
   "outputs": [
    {
     "data": {
      "text/plain": [
       "0"
      ]
     },
     "execution_count": 17,
     "metadata": {},
     "output_type": "execute_result"
    }
   ],
   "source": [
    "frase2.count('re')"
   ]
  },
  {
   "cell_type": "code",
   "execution_count": 15,
   "metadata": {},
   "outputs": [
    {
     "data": {
      "text/plain": [
       "35"
      ]
     },
     "execution_count": 15,
     "metadata": {},
     "output_type": "execute_result"
    }
   ],
   "source": [
    "len(frase2)"
   ]
  },
  {
   "cell_type": "markdown",
   "metadata": {},
   "source": [
    "### Warrer Strings"
   ]
  },
  {
   "cell_type": "code",
   "execution_count": 19,
   "metadata": {},
   "outputs": [
    {
     "data": {
      "text/plain": [
       "6"
      ]
     },
     "execution_count": 19,
     "metadata": {},
     "output_type": "execute_result"
    }
   ],
   "source": [
    "frase2.index('MI')"
   ]
  },
  {
   "cell_type": "code",
   "execution_count": 20,
   "metadata": {},
   "outputs": [
    {
     "data": {
      "text/plain": [
       "' FA DO RE DO RE RE RE'"
      ]
     },
     "execution_count": 20,
     "metadata": {},
     "output_type": "execute_result"
    }
   ],
   "source": [
    "frase2[14:35]"
   ]
  },
  {
   "cell_type": "markdown",
   "metadata": {},
   "source": [
    "### Join"
   ]
  },
  {
   "cell_type": "code",
   "execution_count": 21,
   "metadata": {},
   "outputs": [
    {
     "data": {
      "text/plain": [
       "'hot dog'"
      ]
     },
     "execution_count": 21,
     "metadata": {},
     "output_type": "execute_result"
    }
   ],
   "source": [
    "lista = ['hot','dog']\n",
    "' '.join(lista)"
   ]
  },
  {
   "cell_type": "markdown",
   "metadata": {},
   "source": [
    "### Expressões Regulares"
   ]
  },
  {
   "cell_type": "code",
   "execution_count": 22,
   "metadata": {},
   "outputs": [
    {
     "data": {
      "text/plain": [
       "'O numero da nossa casa ??, apt ???'"
      ]
     },
     "execution_count": 22,
     "metadata": {},
     "output_type": "execute_result"
    }
   ],
   "source": [
    "texto = 'O numero da nossa casa 56, apt 306'\n",
    "\n",
    "re.sub('-|[0-9]','?', texto)"
   ]
  },
  {
   "cell_type": "code",
   "execution_count": 23,
   "metadata": {},
   "outputs": [
    {
     "data": {
      "text/plain": [
       "'im back baby Data Science '"
      ]
     },
     "execution_count": 23,
     "metadata": {},
     "output_type": "execute_result"
    }
   ],
   "source": [
    "texto = \"i'm back baby!!!, Data Science ??;;;()\"\n",
    "re.sub('[-./?!,\":;()\\']','',texto)"
   ]
  },
  {
   "cell_type": "markdown",
   "metadata": {},
   "source": [
    "### Trabalhando com NLTK \n",
    "* nltk.org"
   ]
  },
  {
   "cell_type": "code",
   "execution_count": 25,
   "metadata": {},
   "outputs": [
    {
     "name": "stdout",
     "output_type": "stream",
     "text": [
      "Requirement already satisfied: nltk in c:\\users\\vitor\\anaconda3\\lib\\site-packages (3.4.5)\n",
      "Requirement already satisfied: six in c:\\users\\vitor\\anaconda3\\lib\\site-packages (from nltk) (1.14.0)\n"
     ]
    }
   ],
   "source": [
    "!pip install nltk"
   ]
  },
  {
   "cell_type": "markdown",
   "metadata": {},
   "source": [
    "### Download da base de dados do NLTK\n",
    "\n",
    "* Abra o Terminal\n",
    "* Abra o console Pyhton\n",
    "* Importe a biblioteca NLTK\n",
    "* execute o comando nltk.download()"
   ]
  },
  {
   "cell_type": "code",
   "execution_count": 24,
   "metadata": {},
   "outputs": [
    {
     "data": {
      "text/plain": [
       "['Python', 'eh', 'uma', 'linguagem', 'fenomenal']"
      ]
     },
     "execution_count": 24,
     "metadata": {},
     "output_type": "execute_result"
    }
   ],
   "source": [
    "frase = 'Python eh uma linguagem fenomenal'\n",
    "palavras = nltk.word_tokenize(frase)\n",
    "palavras"
   ]
  },
  {
   "cell_type": "code",
   "execution_count": 26,
   "metadata": {},
   "outputs": [
    {
     "data": {
      "text/plain": [
       "FreqDist({'six': 3, 'Iron Maiden': 2, 'the': 1, 'Best': 1, 'forever': 1})"
      ]
     },
     "execution_count": 26,
     "metadata": {},
     "output_type": "execute_result"
    }
   ],
   "source": [
    "from nltk import FreqDist\n",
    "frequencia = FreqDist(['six','six','six','Iron Maiden','the','Best','Iron Maiden','forever'])\n",
    "frequencia"
   ]
  },
  {
   "cell_type": "code",
   "execution_count": 27,
   "metadata": {},
   "outputs": [
    {
     "name": "stdout",
     "output_type": "stream",
     "text": [
      "dict_values([3, 2, 1, 1, 1])\n"
     ]
    }
   ],
   "source": [
    "print(frequencia.values())"
   ]
  },
  {
   "cell_type": "code",
   "execution_count": 28,
   "metadata": {},
   "outputs": [
    {
     "data": {
      "text/plain": [
       "'six'"
      ]
     },
     "execution_count": 28,
     "metadata": {},
     "output_type": "execute_result"
    }
   ],
   "source": [
    "frequencia.max()"
   ]
  },
  {
   "cell_type": "code",
   "execution_count": 46,
   "metadata": {},
   "outputs": [
    {
     "data": {
      "text/plain": [
       "dict_keys(['six', 'Iron Maiden', 'the', 'Best', 'forever'])"
      ]
     },
     "execution_count": 46,
     "metadata": {},
     "output_type": "execute_result"
    }
   ],
   "source": [
    "frequencia.keys()"
   ]
  },
  {
   "cell_type": "code",
   "execution_count": 47,
   "metadata": {},
   "outputs": [
    {
     "data": {
      "text/plain": [
       "array([0, 1, 2, 3, 4])"
      ]
     },
     "execution_count": 47,
     "metadata": {},
     "output_type": "execute_result"
    }
   ],
   "source": [
    "y_pos"
   ]
  },
  {
   "cell_type": "markdown",
   "metadata": {},
   "source": [
    "### Plota a frequencia das palavras na frase"
   ]
  },
  {
   "cell_type": "code",
   "execution_count": 53,
   "metadata": {},
   "outputs": [
    {
     "data": {
      "application/javascript": [
       "/* Put everything inside the global mpl namespace */\n",
       "window.mpl = {};\n",
       "\n",
       "\n",
       "mpl.get_websocket_type = function() {\n",
       "    if (typeof(WebSocket) !== 'undefined') {\n",
       "        return WebSocket;\n",
       "    } else if (typeof(MozWebSocket) !== 'undefined') {\n",
       "        return MozWebSocket;\n",
       "    } else {\n",
       "        alert('Your browser does not have WebSocket support. ' +\n",
       "              'Please try Chrome, Safari or Firefox ≥ 6. ' +\n",
       "              'Firefox 4 and 5 are also supported but you ' +\n",
       "              'have to enable WebSockets in about:config.');\n",
       "    };\n",
       "}\n",
       "\n",
       "mpl.figure = function(figure_id, websocket, ondownload, parent_element) {\n",
       "    this.id = figure_id;\n",
       "\n",
       "    this.ws = websocket;\n",
       "\n",
       "    this.supports_binary = (this.ws.binaryType != undefined);\n",
       "\n",
       "    if (!this.supports_binary) {\n",
       "        var warnings = document.getElementById(\"mpl-warnings\");\n",
       "        if (warnings) {\n",
       "            warnings.style.display = 'block';\n",
       "            warnings.textContent = (\n",
       "                \"This browser does not support binary websocket messages. \" +\n",
       "                    \"Performance may be slow.\");\n",
       "        }\n",
       "    }\n",
       "\n",
       "    this.imageObj = new Image();\n",
       "\n",
       "    this.context = undefined;\n",
       "    this.message = undefined;\n",
       "    this.canvas = undefined;\n",
       "    this.rubberband_canvas = undefined;\n",
       "    this.rubberband_context = undefined;\n",
       "    this.format_dropdown = undefined;\n",
       "\n",
       "    this.image_mode = 'full';\n",
       "\n",
       "    this.root = $('<div/>');\n",
       "    this._root_extra_style(this.root)\n",
       "    this.root.attr('style', 'display: inline-block');\n",
       "\n",
       "    $(parent_element).append(this.root);\n",
       "\n",
       "    this._init_header(this);\n",
       "    this._init_canvas(this);\n",
       "    this._init_toolbar(this);\n",
       "\n",
       "    var fig = this;\n",
       "\n",
       "    this.waiting = false;\n",
       "\n",
       "    this.ws.onopen =  function () {\n",
       "            fig.send_message(\"supports_binary\", {value: fig.supports_binary});\n",
       "            fig.send_message(\"send_image_mode\", {});\n",
       "            if (mpl.ratio != 1) {\n",
       "                fig.send_message(\"set_dpi_ratio\", {'dpi_ratio': mpl.ratio});\n",
       "            }\n",
       "            fig.send_message(\"refresh\", {});\n",
       "        }\n",
       "\n",
       "    this.imageObj.onload = function() {\n",
       "            if (fig.image_mode == 'full') {\n",
       "                // Full images could contain transparency (where diff images\n",
       "                // almost always do), so we need to clear the canvas so that\n",
       "                // there is no ghosting.\n",
       "                fig.context.clearRect(0, 0, fig.canvas.width, fig.canvas.height);\n",
       "            }\n",
       "            fig.context.drawImage(fig.imageObj, 0, 0);\n",
       "        };\n",
       "\n",
       "    this.imageObj.onunload = function() {\n",
       "        fig.ws.close();\n",
       "    }\n",
       "\n",
       "    this.ws.onmessage = this._make_on_message_function(this);\n",
       "\n",
       "    this.ondownload = ondownload;\n",
       "}\n",
       "\n",
       "mpl.figure.prototype._init_header = function() {\n",
       "    var titlebar = $(\n",
       "        '<div class=\"ui-dialog-titlebar ui-widget-header ui-corner-all ' +\n",
       "        'ui-helper-clearfix\"/>');\n",
       "    var titletext = $(\n",
       "        '<div class=\"ui-dialog-title\" style=\"width: 100%; ' +\n",
       "        'text-align: center; padding: 3px;\"/>');\n",
       "    titlebar.append(titletext)\n",
       "    this.root.append(titlebar);\n",
       "    this.header = titletext[0];\n",
       "}\n",
       "\n",
       "\n",
       "\n",
       "mpl.figure.prototype._canvas_extra_style = function(canvas_div) {\n",
       "\n",
       "}\n",
       "\n",
       "\n",
       "mpl.figure.prototype._root_extra_style = function(canvas_div) {\n",
       "\n",
       "}\n",
       "\n",
       "mpl.figure.prototype._init_canvas = function() {\n",
       "    var fig = this;\n",
       "\n",
       "    var canvas_div = $('<div/>');\n",
       "\n",
       "    canvas_div.attr('style', 'position: relative; clear: both; outline: 0');\n",
       "\n",
       "    function canvas_keyboard_event(event) {\n",
       "        return fig.key_event(event, event['data']);\n",
       "    }\n",
       "\n",
       "    canvas_div.keydown('key_press', canvas_keyboard_event);\n",
       "    canvas_div.keyup('key_release', canvas_keyboard_event);\n",
       "    this.canvas_div = canvas_div\n",
       "    this._canvas_extra_style(canvas_div)\n",
       "    this.root.append(canvas_div);\n",
       "\n",
       "    var canvas = $('<canvas/>');\n",
       "    canvas.addClass('mpl-canvas');\n",
       "    canvas.attr('style', \"left: 0; top: 0; z-index: 0; outline: 0\")\n",
       "\n",
       "    this.canvas = canvas[0];\n",
       "    this.context = canvas[0].getContext(\"2d\");\n",
       "\n",
       "    var backingStore = this.context.backingStorePixelRatio ||\n",
       "\tthis.context.webkitBackingStorePixelRatio ||\n",
       "\tthis.context.mozBackingStorePixelRatio ||\n",
       "\tthis.context.msBackingStorePixelRatio ||\n",
       "\tthis.context.oBackingStorePixelRatio ||\n",
       "\tthis.context.backingStorePixelRatio || 1;\n",
       "\n",
       "    mpl.ratio = (window.devicePixelRatio || 1) / backingStore;\n",
       "\n",
       "    var rubberband = $('<canvas/>');\n",
       "    rubberband.attr('style', \"position: absolute; left: 0; top: 0; z-index: 1;\")\n",
       "\n",
       "    var pass_mouse_events = true;\n",
       "\n",
       "    canvas_div.resizable({\n",
       "        start: function(event, ui) {\n",
       "            pass_mouse_events = false;\n",
       "        },\n",
       "        resize: function(event, ui) {\n",
       "            fig.request_resize(ui.size.width, ui.size.height);\n",
       "        },\n",
       "        stop: function(event, ui) {\n",
       "            pass_mouse_events = true;\n",
       "            fig.request_resize(ui.size.width, ui.size.height);\n",
       "        },\n",
       "    });\n",
       "\n",
       "    function mouse_event_fn(event) {\n",
       "        if (pass_mouse_events)\n",
       "            return fig.mouse_event(event, event['data']);\n",
       "    }\n",
       "\n",
       "    rubberband.mousedown('button_press', mouse_event_fn);\n",
       "    rubberband.mouseup('button_release', mouse_event_fn);\n",
       "    // Throttle sequential mouse events to 1 every 20ms.\n",
       "    rubberband.mousemove('motion_notify', mouse_event_fn);\n",
       "\n",
       "    rubberband.mouseenter('figure_enter', mouse_event_fn);\n",
       "    rubberband.mouseleave('figure_leave', mouse_event_fn);\n",
       "\n",
       "    canvas_div.on(\"wheel\", function (event) {\n",
       "        event = event.originalEvent;\n",
       "        event['data'] = 'scroll'\n",
       "        if (event.deltaY < 0) {\n",
       "            event.step = 1;\n",
       "        } else {\n",
       "            event.step = -1;\n",
       "        }\n",
       "        mouse_event_fn(event);\n",
       "    });\n",
       "\n",
       "    canvas_div.append(canvas);\n",
       "    canvas_div.append(rubberband);\n",
       "\n",
       "    this.rubberband = rubberband;\n",
       "    this.rubberband_canvas = rubberband[0];\n",
       "    this.rubberband_context = rubberband[0].getContext(\"2d\");\n",
       "    this.rubberband_context.strokeStyle = \"#000000\";\n",
       "\n",
       "    this._resize_canvas = function(width, height) {\n",
       "        // Keep the size of the canvas, canvas container, and rubber band\n",
       "        // canvas in synch.\n",
       "        canvas_div.css('width', width)\n",
       "        canvas_div.css('height', height)\n",
       "\n",
       "        canvas.attr('width', width * mpl.ratio);\n",
       "        canvas.attr('height', height * mpl.ratio);\n",
       "        canvas.attr('style', 'width: ' + width + 'px; height: ' + height + 'px;');\n",
       "\n",
       "        rubberband.attr('width', width);\n",
       "        rubberband.attr('height', height);\n",
       "    }\n",
       "\n",
       "    // Set the figure to an initial 600x600px, this will subsequently be updated\n",
       "    // upon first draw.\n",
       "    this._resize_canvas(600, 600);\n",
       "\n",
       "    // Disable right mouse context menu.\n",
       "    $(this.rubberband_canvas).bind(\"contextmenu\",function(e){\n",
       "        return false;\n",
       "    });\n",
       "\n",
       "    function set_focus () {\n",
       "        canvas.focus();\n",
       "        canvas_div.focus();\n",
       "    }\n",
       "\n",
       "    window.setTimeout(set_focus, 100);\n",
       "}\n",
       "\n",
       "mpl.figure.prototype._init_toolbar = function() {\n",
       "    var fig = this;\n",
       "\n",
       "    var nav_element = $('<div/>');\n",
       "    nav_element.attr('style', 'width: 100%');\n",
       "    this.root.append(nav_element);\n",
       "\n",
       "    // Define a callback function for later on.\n",
       "    function toolbar_event(event) {\n",
       "        return fig.toolbar_button_onclick(event['data']);\n",
       "    }\n",
       "    function toolbar_mouse_event(event) {\n",
       "        return fig.toolbar_button_onmouseover(event['data']);\n",
       "    }\n",
       "\n",
       "    for(var toolbar_ind in mpl.toolbar_items) {\n",
       "        var name = mpl.toolbar_items[toolbar_ind][0];\n",
       "        var tooltip = mpl.toolbar_items[toolbar_ind][1];\n",
       "        var image = mpl.toolbar_items[toolbar_ind][2];\n",
       "        var method_name = mpl.toolbar_items[toolbar_ind][3];\n",
       "\n",
       "        if (!name) {\n",
       "            // put a spacer in here.\n",
       "            continue;\n",
       "        }\n",
       "        var button = $('<button/>');\n",
       "        button.addClass('ui-button ui-widget ui-state-default ui-corner-all ' +\n",
       "                        'ui-button-icon-only');\n",
       "        button.attr('role', 'button');\n",
       "        button.attr('aria-disabled', 'false');\n",
       "        button.click(method_name, toolbar_event);\n",
       "        button.mouseover(tooltip, toolbar_mouse_event);\n",
       "\n",
       "        var icon_img = $('<span/>');\n",
       "        icon_img.addClass('ui-button-icon-primary ui-icon');\n",
       "        icon_img.addClass(image);\n",
       "        icon_img.addClass('ui-corner-all');\n",
       "\n",
       "        var tooltip_span = $('<span/>');\n",
       "        tooltip_span.addClass('ui-button-text');\n",
       "        tooltip_span.html(tooltip);\n",
       "\n",
       "        button.append(icon_img);\n",
       "        button.append(tooltip_span);\n",
       "\n",
       "        nav_element.append(button);\n",
       "    }\n",
       "\n",
       "    var fmt_picker_span = $('<span/>');\n",
       "\n",
       "    var fmt_picker = $('<select/>');\n",
       "    fmt_picker.addClass('mpl-toolbar-option ui-widget ui-widget-content');\n",
       "    fmt_picker_span.append(fmt_picker);\n",
       "    nav_element.append(fmt_picker_span);\n",
       "    this.format_dropdown = fmt_picker[0];\n",
       "\n",
       "    for (var ind in mpl.extensions) {\n",
       "        var fmt = mpl.extensions[ind];\n",
       "        var option = $(\n",
       "            '<option/>', {selected: fmt === mpl.default_extension}).html(fmt);\n",
       "        fmt_picker.append(option);\n",
       "    }\n",
       "\n",
       "    // Add hover states to the ui-buttons\n",
       "    $( \".ui-button\" ).hover(\n",
       "        function() { $(this).addClass(\"ui-state-hover\");},\n",
       "        function() { $(this).removeClass(\"ui-state-hover\");}\n",
       "    );\n",
       "\n",
       "    var status_bar = $('<span class=\"mpl-message\"/>');\n",
       "    nav_element.append(status_bar);\n",
       "    this.message = status_bar[0];\n",
       "}\n",
       "\n",
       "mpl.figure.prototype.request_resize = function(x_pixels, y_pixels) {\n",
       "    // Request matplotlib to resize the figure. Matplotlib will then trigger a resize in the client,\n",
       "    // which will in turn request a refresh of the image.\n",
       "    this.send_message('resize', {'width': x_pixels, 'height': y_pixels});\n",
       "}\n",
       "\n",
       "mpl.figure.prototype.send_message = function(type, properties) {\n",
       "    properties['type'] = type;\n",
       "    properties['figure_id'] = this.id;\n",
       "    this.ws.send(JSON.stringify(properties));\n",
       "}\n",
       "\n",
       "mpl.figure.prototype.send_draw_message = function() {\n",
       "    if (!this.waiting) {\n",
       "        this.waiting = true;\n",
       "        this.ws.send(JSON.stringify({type: \"draw\", figure_id: this.id}));\n",
       "    }\n",
       "}\n",
       "\n",
       "\n",
       "mpl.figure.prototype.handle_save = function(fig, msg) {\n",
       "    var format_dropdown = fig.format_dropdown;\n",
       "    var format = format_dropdown.options[format_dropdown.selectedIndex].value;\n",
       "    fig.ondownload(fig, format);\n",
       "}\n",
       "\n",
       "\n",
       "mpl.figure.prototype.handle_resize = function(fig, msg) {\n",
       "    var size = msg['size'];\n",
       "    if (size[0] != fig.canvas.width || size[1] != fig.canvas.height) {\n",
       "        fig._resize_canvas(size[0], size[1]);\n",
       "        fig.send_message(\"refresh\", {});\n",
       "    };\n",
       "}\n",
       "\n",
       "mpl.figure.prototype.handle_rubberband = function(fig, msg) {\n",
       "    var x0 = msg['x0'] / mpl.ratio;\n",
       "    var y0 = (fig.canvas.height - msg['y0']) / mpl.ratio;\n",
       "    var x1 = msg['x1'] / mpl.ratio;\n",
       "    var y1 = (fig.canvas.height - msg['y1']) / mpl.ratio;\n",
       "    x0 = Math.floor(x0) + 0.5;\n",
       "    y0 = Math.floor(y0) + 0.5;\n",
       "    x1 = Math.floor(x1) + 0.5;\n",
       "    y1 = Math.floor(y1) + 0.5;\n",
       "    var min_x = Math.min(x0, x1);\n",
       "    var min_y = Math.min(y0, y1);\n",
       "    var width = Math.abs(x1 - x0);\n",
       "    var height = Math.abs(y1 - y0);\n",
       "\n",
       "    fig.rubberband_context.clearRect(\n",
       "        0, 0, fig.canvas.width / mpl.ratio, fig.canvas.height / mpl.ratio);\n",
       "\n",
       "    fig.rubberband_context.strokeRect(min_x, min_y, width, height);\n",
       "}\n",
       "\n",
       "mpl.figure.prototype.handle_figure_label = function(fig, msg) {\n",
       "    // Updates the figure title.\n",
       "    fig.header.textContent = msg['label'];\n",
       "}\n",
       "\n",
       "mpl.figure.prototype.handle_cursor = function(fig, msg) {\n",
       "    var cursor = msg['cursor'];\n",
       "    switch(cursor)\n",
       "    {\n",
       "    case 0:\n",
       "        cursor = 'pointer';\n",
       "        break;\n",
       "    case 1:\n",
       "        cursor = 'default';\n",
       "        break;\n",
       "    case 2:\n",
       "        cursor = 'crosshair';\n",
       "        break;\n",
       "    case 3:\n",
       "        cursor = 'move';\n",
       "        break;\n",
       "    }\n",
       "    fig.rubberband_canvas.style.cursor = cursor;\n",
       "}\n",
       "\n",
       "mpl.figure.prototype.handle_message = function(fig, msg) {\n",
       "    fig.message.textContent = msg['message'];\n",
       "}\n",
       "\n",
       "mpl.figure.prototype.handle_draw = function(fig, msg) {\n",
       "    // Request the server to send over a new figure.\n",
       "    fig.send_draw_message();\n",
       "}\n",
       "\n",
       "mpl.figure.prototype.handle_image_mode = function(fig, msg) {\n",
       "    fig.image_mode = msg['mode'];\n",
       "}\n",
       "\n",
       "mpl.figure.prototype.updated_canvas_event = function() {\n",
       "    // Called whenever the canvas gets updated.\n",
       "    this.send_message(\"ack\", {});\n",
       "}\n",
       "\n",
       "// A function to construct a web socket function for onmessage handling.\n",
       "// Called in the figure constructor.\n",
       "mpl.figure.prototype._make_on_message_function = function(fig) {\n",
       "    return function socket_on_message(evt) {\n",
       "        if (evt.data instanceof Blob) {\n",
       "            /* FIXME: We get \"Resource interpreted as Image but\n",
       "             * transferred with MIME type text/plain:\" errors on\n",
       "             * Chrome.  But how to set the MIME type?  It doesn't seem\n",
       "             * to be part of the websocket stream */\n",
       "            evt.data.type = \"image/png\";\n",
       "\n",
       "            /* Free the memory for the previous frames */\n",
       "            if (fig.imageObj.src) {\n",
       "                (window.URL || window.webkitURL).revokeObjectURL(\n",
       "                    fig.imageObj.src);\n",
       "            }\n",
       "\n",
       "            fig.imageObj.src = (window.URL || window.webkitURL).createObjectURL(\n",
       "                evt.data);\n",
       "            fig.updated_canvas_event();\n",
       "            fig.waiting = false;\n",
       "            return;\n",
       "        }\n",
       "        else if (typeof evt.data === 'string' && evt.data.slice(0, 21) == \"data:image/png;base64\") {\n",
       "            fig.imageObj.src = evt.data;\n",
       "            fig.updated_canvas_event();\n",
       "            fig.waiting = false;\n",
       "            return;\n",
       "        }\n",
       "\n",
       "        var msg = JSON.parse(evt.data);\n",
       "        var msg_type = msg['type'];\n",
       "\n",
       "        // Call the  \"handle_{type}\" callback, which takes\n",
       "        // the figure and JSON message as its only arguments.\n",
       "        try {\n",
       "            var callback = fig[\"handle_\" + msg_type];\n",
       "        } catch (e) {\n",
       "            console.log(\"No handler for the '\" + msg_type + \"' message type: \", msg);\n",
       "            return;\n",
       "        }\n",
       "\n",
       "        if (callback) {\n",
       "            try {\n",
       "                // console.log(\"Handling '\" + msg_type + \"' message: \", msg);\n",
       "                callback(fig, msg);\n",
       "            } catch (e) {\n",
       "                console.log(\"Exception inside the 'handler_\" + msg_type + \"' callback:\", e, e.stack, msg);\n",
       "            }\n",
       "        }\n",
       "    };\n",
       "}\n",
       "\n",
       "// from http://stackoverflow.com/questions/1114465/getting-mouse-location-in-canvas\n",
       "mpl.findpos = function(e) {\n",
       "    //this section is from http://www.quirksmode.org/js/events_properties.html\n",
       "    var targ;\n",
       "    if (!e)\n",
       "        e = window.event;\n",
       "    if (e.target)\n",
       "        targ = e.target;\n",
       "    else if (e.srcElement)\n",
       "        targ = e.srcElement;\n",
       "    if (targ.nodeType == 3) // defeat Safari bug\n",
       "        targ = targ.parentNode;\n",
       "\n",
       "    // jQuery normalizes the pageX and pageY\n",
       "    // pageX,Y are the mouse positions relative to the document\n",
       "    // offset() returns the position of the element relative to the document\n",
       "    var x = e.pageX - $(targ).offset().left;\n",
       "    var y = e.pageY - $(targ).offset().top;\n",
       "\n",
       "    return {\"x\": x, \"y\": y};\n",
       "};\n",
       "\n",
       "/*\n",
       " * return a copy of an object with only non-object keys\n",
       " * we need this to avoid circular references\n",
       " * http://stackoverflow.com/a/24161582/3208463\n",
       " */\n",
       "function simpleKeys (original) {\n",
       "  return Object.keys(original).reduce(function (obj, key) {\n",
       "    if (typeof original[key] !== 'object')\n",
       "        obj[key] = original[key]\n",
       "    return obj;\n",
       "  }, {});\n",
       "}\n",
       "\n",
       "mpl.figure.prototype.mouse_event = function(event, name) {\n",
       "    var canvas_pos = mpl.findpos(event)\n",
       "\n",
       "    if (name === 'button_press')\n",
       "    {\n",
       "        this.canvas.focus();\n",
       "        this.canvas_div.focus();\n",
       "    }\n",
       "\n",
       "    var x = canvas_pos.x * mpl.ratio;\n",
       "    var y = canvas_pos.y * mpl.ratio;\n",
       "\n",
       "    this.send_message(name, {x: x, y: y, button: event.button,\n",
       "                             step: event.step,\n",
       "                             guiEvent: simpleKeys(event)});\n",
       "\n",
       "    /* This prevents the web browser from automatically changing to\n",
       "     * the text insertion cursor when the button is pressed.  We want\n",
       "     * to control all of the cursor setting manually through the\n",
       "     * 'cursor' event from matplotlib */\n",
       "    event.preventDefault();\n",
       "    return false;\n",
       "}\n",
       "\n",
       "mpl.figure.prototype._key_event_extra = function(event, name) {\n",
       "    // Handle any extra behaviour associated with a key event\n",
       "}\n",
       "\n",
       "mpl.figure.prototype.key_event = function(event, name) {\n",
       "\n",
       "    // Prevent repeat events\n",
       "    if (name == 'key_press')\n",
       "    {\n",
       "        if (event.which === this._key)\n",
       "            return;\n",
       "        else\n",
       "            this._key = event.which;\n",
       "    }\n",
       "    if (name == 'key_release')\n",
       "        this._key = null;\n",
       "\n",
       "    var value = '';\n",
       "    if (event.ctrlKey && event.which != 17)\n",
       "        value += \"ctrl+\";\n",
       "    if (event.altKey && event.which != 18)\n",
       "        value += \"alt+\";\n",
       "    if (event.shiftKey && event.which != 16)\n",
       "        value += \"shift+\";\n",
       "\n",
       "    value += 'k';\n",
       "    value += event.which.toString();\n",
       "\n",
       "    this._key_event_extra(event, name);\n",
       "\n",
       "    this.send_message(name, {key: value,\n",
       "                             guiEvent: simpleKeys(event)});\n",
       "    return false;\n",
       "}\n",
       "\n",
       "mpl.figure.prototype.toolbar_button_onclick = function(name) {\n",
       "    if (name == 'download') {\n",
       "        this.handle_save(this, null);\n",
       "    } else {\n",
       "        this.send_message(\"toolbar_button\", {name: name});\n",
       "    }\n",
       "};\n",
       "\n",
       "mpl.figure.prototype.toolbar_button_onmouseover = function(tooltip) {\n",
       "    this.message.textContent = tooltip;\n",
       "};\n",
       "mpl.toolbar_items = [[\"Home\", \"Reset original view\", \"fa fa-home icon-home\", \"home\"], [\"Back\", \"Back to previous view\", \"fa fa-arrow-left icon-arrow-left\", \"back\"], [\"Forward\", \"Forward to next view\", \"fa fa-arrow-right icon-arrow-right\", \"forward\"], [\"\", \"\", \"\", \"\"], [\"Pan\", \"Pan axes with left mouse, zoom with right\", \"fa fa-arrows icon-move\", \"pan\"], [\"Zoom\", \"Zoom to rectangle\", \"fa fa-square-o icon-check-empty\", \"zoom\"], [\"\", \"\", \"\", \"\"], [\"Download\", \"Download plot\", \"fa fa-floppy-o icon-save\", \"download\"]];\n",
       "\n",
       "mpl.extensions = [\"eps\", \"jpeg\", \"pdf\", \"png\", \"ps\", \"raw\", \"svg\", \"tif\"];\n",
       "\n",
       "mpl.default_extension = \"png\";var comm_websocket_adapter = function(comm) {\n",
       "    // Create a \"websocket\"-like object which calls the given IPython comm\n",
       "    // object with the appropriate methods. Currently this is a non binary\n",
       "    // socket, so there is still some room for performance tuning.\n",
       "    var ws = {};\n",
       "\n",
       "    ws.close = function() {\n",
       "        comm.close()\n",
       "    };\n",
       "    ws.send = function(m) {\n",
       "        //console.log('sending', m);\n",
       "        comm.send(m);\n",
       "    };\n",
       "    // Register the callback with on_msg.\n",
       "    comm.on_msg(function(msg) {\n",
       "        //console.log('receiving', msg['content']['data'], msg);\n",
       "        // Pass the mpl event to the overridden (by mpl) onmessage function.\n",
       "        ws.onmessage(msg['content']['data'])\n",
       "    });\n",
       "    return ws;\n",
       "}\n",
       "\n",
       "mpl.mpl_figure_comm = function(comm, msg) {\n",
       "    // This is the function which gets called when the mpl process\n",
       "    // starts-up an IPython Comm through the \"matplotlib\" channel.\n",
       "\n",
       "    var id = msg.content.data.id;\n",
       "    // Get hold of the div created by the display call when the Comm\n",
       "    // socket was opened in Python.\n",
       "    var element = $(\"#\" + id);\n",
       "    var ws_proxy = comm_websocket_adapter(comm)\n",
       "\n",
       "    function ondownload(figure, format) {\n",
       "        window.open(figure.imageObj.src);\n",
       "    }\n",
       "\n",
       "    var fig = new mpl.figure(id, ws_proxy,\n",
       "                           ondownload,\n",
       "                           element.get(0));\n",
       "\n",
       "    // Call onopen now - mpl needs it, as it is assuming we've passed it a real\n",
       "    // web socket which is closed, not our websocket->open comm proxy.\n",
       "    ws_proxy.onopen();\n",
       "\n",
       "    fig.parent_element = element.get(0);\n",
       "    fig.cell_info = mpl.find_output_cell(\"<div id='\" + id + \"'></div>\");\n",
       "    if (!fig.cell_info) {\n",
       "        console.error(\"Failed to find cell for figure\", id, fig);\n",
       "        return;\n",
       "    }\n",
       "\n",
       "    var output_index = fig.cell_info[2]\n",
       "    var cell = fig.cell_info[0];\n",
       "\n",
       "};\n",
       "\n",
       "mpl.figure.prototype.handle_close = function(fig, msg) {\n",
       "    var width = fig.canvas.width/mpl.ratio\n",
       "    fig.root.unbind('remove')\n",
       "\n",
       "    // Update the output cell to use the data from the current canvas.\n",
       "    fig.push_to_output();\n",
       "    var dataURL = fig.canvas.toDataURL();\n",
       "    // Re-enable the keyboard manager in IPython - without this line, in FF,\n",
       "    // the notebook keyboard shortcuts fail.\n",
       "    IPython.keyboard_manager.enable()\n",
       "    $(fig.parent_element).html('<img src=\"' + dataURL + '\" width=\"' + width + '\">');\n",
       "    fig.close_ws(fig, msg);\n",
       "}\n",
       "\n",
       "mpl.figure.prototype.close_ws = function(fig, msg){\n",
       "    fig.send_message('closing', msg);\n",
       "    // fig.ws.close()\n",
       "}\n",
       "\n",
       "mpl.figure.prototype.push_to_output = function(remove_interactive) {\n",
       "    // Turn the data on the canvas into data in the output cell.\n",
       "    var width = this.canvas.width/mpl.ratio\n",
       "    var dataURL = this.canvas.toDataURL();\n",
       "    this.cell_info[1]['text/html'] = '<img src=\"' + dataURL + '\" width=\"' + width + '\">';\n",
       "}\n",
       "\n",
       "mpl.figure.prototype.updated_canvas_event = function() {\n",
       "    // Tell IPython that the notebook contents must change.\n",
       "    IPython.notebook.set_dirty(true);\n",
       "    this.send_message(\"ack\", {});\n",
       "    var fig = this;\n",
       "    // Wait a second, then push the new image to the DOM so\n",
       "    // that it is saved nicely (might be nice to debounce this).\n",
       "    setTimeout(function () { fig.push_to_output() }, 1000);\n",
       "}\n",
       "\n",
       "mpl.figure.prototype._init_toolbar = function() {\n",
       "    var fig = this;\n",
       "\n",
       "    var nav_element = $('<div/>');\n",
       "    nav_element.attr('style', 'width: 100%');\n",
       "    this.root.append(nav_element);\n",
       "\n",
       "    // Define a callback function for later on.\n",
       "    function toolbar_event(event) {\n",
       "        return fig.toolbar_button_onclick(event['data']);\n",
       "    }\n",
       "    function toolbar_mouse_event(event) {\n",
       "        return fig.toolbar_button_onmouseover(event['data']);\n",
       "    }\n",
       "\n",
       "    for(var toolbar_ind in mpl.toolbar_items){\n",
       "        var name = mpl.toolbar_items[toolbar_ind][0];\n",
       "        var tooltip = mpl.toolbar_items[toolbar_ind][1];\n",
       "        var image = mpl.toolbar_items[toolbar_ind][2];\n",
       "        var method_name = mpl.toolbar_items[toolbar_ind][3];\n",
       "\n",
       "        if (!name) { continue; };\n",
       "\n",
       "        var button = $('<button class=\"btn btn-default\" href=\"#\" title=\"' + name + '\"><i class=\"fa ' + image + ' fa-lg\"></i></button>');\n",
       "        button.click(method_name, toolbar_event);\n",
       "        button.mouseover(tooltip, toolbar_mouse_event);\n",
       "        nav_element.append(button);\n",
       "    }\n",
       "\n",
       "    // Add the status bar.\n",
       "    var status_bar = $('<span class=\"mpl-message\" style=\"text-align:right; float: right;\"/>');\n",
       "    nav_element.append(status_bar);\n",
       "    this.message = status_bar[0];\n",
       "\n",
       "    // Add the close button to the window.\n",
       "    var buttongrp = $('<div class=\"btn-group inline pull-right\"></div>');\n",
       "    var button = $('<button class=\"btn btn-mini btn-primary\" href=\"#\" title=\"Stop Interaction\"><i class=\"fa fa-power-off icon-remove icon-large\"></i></button>');\n",
       "    button.click(function (evt) { fig.handle_close(fig, {}); } );\n",
       "    button.mouseover('Stop Interaction', toolbar_mouse_event);\n",
       "    buttongrp.append(button);\n",
       "    var titlebar = this.root.find($('.ui-dialog-titlebar'));\n",
       "    titlebar.prepend(buttongrp);\n",
       "}\n",
       "\n",
       "mpl.figure.prototype._root_extra_style = function(el){\n",
       "    var fig = this\n",
       "    el.on(\"remove\", function(){\n",
       "\tfig.close_ws(fig, {});\n",
       "    });\n",
       "}\n",
       "\n",
       "mpl.figure.prototype._canvas_extra_style = function(el){\n",
       "    // this is important to make the div 'focusable\n",
       "    el.attr('tabindex', 0)\n",
       "    // reach out to IPython and tell the keyboard manager to turn it's self\n",
       "    // off when our div gets focus\n",
       "\n",
       "    // location in version 3\n",
       "    if (IPython.notebook.keyboard_manager) {\n",
       "        IPython.notebook.keyboard_manager.register_events(el);\n",
       "    }\n",
       "    else {\n",
       "        // location in version 2\n",
       "        IPython.keyboard_manager.register_events(el);\n",
       "    }\n",
       "\n",
       "}\n",
       "\n",
       "mpl.figure.prototype._key_event_extra = function(event, name) {\n",
       "    var manager = IPython.notebook.keyboard_manager;\n",
       "    if (!manager)\n",
       "        manager = IPython.keyboard_manager;\n",
       "\n",
       "    // Check for shift+enter\n",
       "    if (event.shiftKey && event.which == 13) {\n",
       "        this.canvas_div.blur();\n",
       "        // select the cell after this one\n",
       "        var index = IPython.notebook.find_cell_index(this.cell_info[0]);\n",
       "        IPython.notebook.select(index + 1);\n",
       "    }\n",
       "}\n",
       "\n",
       "mpl.figure.prototype.handle_save = function(fig, msg) {\n",
       "    fig.ondownload(fig, null);\n",
       "}\n",
       "\n",
       "\n",
       "mpl.find_output_cell = function(html_output) {\n",
       "    // Return the cell and output element which can be found *uniquely* in the notebook.\n",
       "    // Note - this is a bit hacky, but it is done because the \"notebook_saving.Notebook\"\n",
       "    // IPython event is triggered only after the cells have been serialised, which for\n",
       "    // our purposes (turning an active figure into a static one), is too late.\n",
       "    var cells = IPython.notebook.get_cells();\n",
       "    var ncells = cells.length;\n",
       "    for (var i=0; i<ncells; i++) {\n",
       "        var cell = cells[i];\n",
       "        if (cell.cell_type === 'code'){\n",
       "            for (var j=0; j<cell.output_area.outputs.length; j++) {\n",
       "                var data = cell.output_area.outputs[j];\n",
       "                if (data.data) {\n",
       "                    // IPython >= 3 moved mimebundle to data attribute of output\n",
       "                    data = data.data;\n",
       "                }\n",
       "                if (data['text/html'] == html_output) {\n",
       "                    return [cell, data, j];\n",
       "                }\n",
       "            }\n",
       "        }\n",
       "    }\n",
       "}\n",
       "\n",
       "// Register the function which deals with the matplotlib target/channel.\n",
       "// The kernel may be null if the page has been refreshed.\n",
       "if (IPython.notebook.kernel != null) {\n",
       "    IPython.notebook.kernel.comm_manager.register_target('matplotlib', mpl.mpl_figure_comm);\n",
       "}\n"
      ],
      "text/plain": [
       "<IPython.core.display.Javascript object>"
      ]
     },
     "metadata": {},
     "output_type": "display_data"
    },
    {
     "data": {
      "text/html": [
       "<img src=\"data:image/png;base64,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\" width=\"640\">"
      ],
      "text/plain": [
       "<IPython.core.display.HTML object>"
      ]
     },
     "metadata": {},
     "output_type": "display_data"
    }
   ],
   "source": [
    "%matplotlib notebook\n",
    "import numpy as np\n",
    "import matplotlib.pyplot as plt\n",
    "\n",
    "palavras = frequencia.keys()\n",
    "y_pos = np.arange(len(palavras))\n",
    "contagem = frequencia.values()\n",
    "\n",
    "plt.bar(y_pos, contagem, align='center', alpha=0.5)\n",
    "plt.xticks(y_pos, palavras)\n",
    "plt.ylabel('Frequencia')\n",
    "plt.title('Frequencia das palavras na frase')\n",
    "\n",
    "plt.show()"
   ]
  },
  {
   "cell_type": "markdown",
   "metadata": {},
   "source": [
    "# Stemming\n",
    "\n",
    "* Reduz uma palavra na forma da sua radical\n",
    "* Usado para fazer pré-processamento de dados"
   ]
  },
  {
   "cell_type": "code",
   "execution_count": 55,
   "metadata": {},
   "outputs": [],
   "source": [
    "# Steaming em protugues RSLPStemmer()\n",
    "stemmer = nltk.stem.RSLPStemmer()"
   ]
  },
  {
   "cell_type": "code",
   "execution_count": 56,
   "metadata": {},
   "outputs": [
    {
     "data": {
      "text/plain": [
       "'trabalh'"
      ]
     },
     "execution_count": 56,
     "metadata": {},
     "output_type": "execute_result"
    }
   ],
   "source": [
    "stemmer.stem('Trabalhou')"
   ]
  },
  {
   "cell_type": "code",
   "execution_count": 57,
   "metadata": {},
   "outputs": [
    {
     "data": {
      "text/plain": [
       "'trabalh'"
      ]
     },
     "execution_count": 57,
     "metadata": {},
     "output_type": "execute_result"
    }
   ],
   "source": [
    "stemmer.stem('Trabalhava')"
   ]
  },
  {
   "cell_type": "code",
   "execution_count": 58,
   "metadata": {},
   "outputs": [
    {
     "data": {
      "text/plain": [
       "'carr'"
      ]
     },
     "execution_count": 58,
     "metadata": {},
     "output_type": "execute_result"
    }
   ],
   "source": [
    "stemmer.stem('Carro')"
   ]
  },
  {
   "cell_type": "code",
   "execution_count": 59,
   "metadata": {},
   "outputs": [
    {
     "data": {
      "text/plain": [
       "'carr'"
      ]
     },
     "execution_count": 59,
     "metadata": {},
     "output_type": "execute_result"
    }
   ],
   "source": [
    "stemmer.stem('Carros')"
   ]
  },
  {
   "cell_type": "code",
   "execution_count": 60,
   "metadata": {},
   "outputs": [
    {
     "data": {
      "text/plain": [
       "'corr'"
      ]
     },
     "execution_count": 60,
     "metadata": {},
     "output_type": "execute_result"
    }
   ],
   "source": [
    "stemmer.stem('Correu')"
   ]
  },
  {
   "cell_type": "code",
   "execution_count": 61,
   "metadata": {},
   "outputs": [
    {
     "data": {
      "text/plain": [
       "'corr'"
      ]
     },
     "execution_count": 61,
     "metadata": {},
     "output_type": "execute_result"
    }
   ],
   "source": [
    "stemmer.stem('Corrida')"
   ]
  },
  {
   "cell_type": "code",
   "execution_count": 62,
   "metadata": {},
   "outputs": [],
   "source": [
    "# Stemming em Ingles\n",
    "stemmer = nltk.stem.SnowballStemmer('english')"
   ]
  },
  {
   "cell_type": "code",
   "execution_count": 63,
   "metadata": {},
   "outputs": [
    {
     "data": {
      "text/plain": [
       "'run'"
      ]
     },
     "execution_count": 63,
     "metadata": {},
     "output_type": "execute_result"
    }
   ],
   "source": [
    "stemmer.stem('running')"
   ]
  },
  {
   "cell_type": "code",
   "execution_count": 64,
   "metadata": {},
   "outputs": [
    {
     "data": {
      "text/plain": [
       "'run'"
      ]
     },
     "execution_count": 64,
     "metadata": {},
     "output_type": "execute_result"
    }
   ],
   "source": [
    "stemmer.stem('run')"
   ]
  },
  {
   "cell_type": "code",
   "execution_count": 65,
   "metadata": {},
   "outputs": [
    {
     "data": {
      "text/plain": [
       "'have'"
      ]
     },
     "execution_count": 65,
     "metadata": {},
     "output_type": "execute_result"
    }
   ],
   "source": [
    "stemmer.stem('have')"
   ]
  },
  {
   "cell_type": "code",
   "execution_count": 66,
   "metadata": {},
   "outputs": [
    {
     "data": {
      "text/plain": [
       "'have'"
      ]
     },
     "execution_count": 66,
     "metadata": {},
     "output_type": "execute_result"
    }
   ],
   "source": [
    "stemmer.stem('having')"
   ]
  },
  {
   "cell_type": "markdown",
   "metadata": {},
   "source": [
    "### Função para aplicar Stemming"
   ]
  },
  {
   "cell_type": "code",
   "execution_count": 69,
   "metadata": {},
   "outputs": [],
   "source": [
    "def Stemming(instancia):\n",
    "    stemmer = nltk.stem.RSLPStemmer()\n",
    "    palavras = []\n",
    "    for w in instancia.split():\n",
    "        palavras.append(stemmer.stem(w))\n",
    "    return(\" \".join(palavras))    "
   ]
  },
  {
   "cell_type": "code",
   "execution_count": 70,
   "metadata": {},
   "outputs": [
    {
     "data": {
      "text/plain": [
       "'ele trabalh frequ no projet de criaca de nov produt'"
      ]
     },
     "execution_count": 70,
     "metadata": {},
     "output_type": "execute_result"
    }
   ],
   "source": [
    "Stemming('Ele trabalhava frequentemente no projeto de criacao de novos produtos')"
   ]
  },
  {
   "cell_type": "markdown",
   "metadata": {},
   "source": [
    "## Lemmatization\n",
    "\n",
    "* Dssflexiona uma palavra para determinar o seu 'Lema'\n",
    "* Técnica usada para fazer pré-processamento de dados"
   ]
  },
  {
   "cell_type": "code",
   "execution_count": 73,
   "metadata": {},
   "outputs": [],
   "source": [
    "from nltk.stem import WordNetLemmatizer"
   ]
  },
  {
   "cell_type": "code",
   "execution_count": 74,
   "metadata": {},
   "outputs": [],
   "source": [
    "lemmatizer = WordNetLemmatizer()"
   ]
  },
  {
   "cell_type": "code",
   "execution_count": 75,
   "metadata": {},
   "outputs": [
    {
     "name": "stdout",
     "output_type": "stream",
     "text": [
      "cat\n"
     ]
    }
   ],
   "source": [
    "print(lemmatizer.lemmatize(\"cats\"))"
   ]
  },
  {
   "cell_type": "code",
   "execution_count": 76,
   "metadata": {},
   "outputs": [
    {
     "data": {
      "text/plain": [
       "'is'"
      ]
     },
     "execution_count": 76,
     "metadata": {},
     "output_type": "execute_result"
    }
   ],
   "source": [
    "lemmatizer.lemmatize('is', pos='n')"
   ]
  },
  {
   "cell_type": "code",
   "execution_count": 77,
   "metadata": {},
   "outputs": [
    {
     "data": {
      "text/plain": [
       "'be'"
      ]
     },
     "execution_count": 77,
     "metadata": {},
     "output_type": "execute_result"
    }
   ],
   "source": [
    "# Busca um lemma para 'is' do tipo verbo\n",
    "lemmatizer.lemmatize('is', pos='v')"
   ]
  },
  {
   "cell_type": "code",
   "execution_count": 78,
   "metadata": {},
   "outputs": [
    {
     "data": {
      "text/plain": [
       "'be'"
      ]
     },
     "execution_count": 78,
     "metadata": {},
     "output_type": "execute_result"
    }
   ],
   "source": [
    "lemmatizer.lemmatize('are', pos='v')"
   ]
  },
  {
   "cell_type": "code",
   "execution_count": 79,
   "metadata": {},
   "outputs": [
    {
     "name": "stdout",
     "output_type": "stream",
     "text": [
      "good\n"
     ]
    }
   ],
   "source": [
    "# busca um adjetivo para 'better'\n",
    "print(lemmatizer.lemmatize('better', pos='a'))"
   ]
  },
  {
   "cell_type": "code",
   "execution_count": 81,
   "metadata": {},
   "outputs": [
    {
     "name": "stdout",
     "output_type": "stream",
     "text": [
      "best\n"
     ]
    }
   ],
   "source": [
    "print(lemmatizer.lemmatize('best', pos='a'))"
   ]
  },
  {
   "cell_type": "code",
   "execution_count": 82,
   "metadata": {},
   "outputs": [
    {
     "name": "stdout",
     "output_type": "stream",
     "text": [
      "good\n"
     ]
    }
   ],
   "source": [
    "print(lemmatizer.lemmatize('better', pos='a'))"
   ]
  },
  {
   "cell_type": "code",
   "execution_count": 83,
   "metadata": {},
   "outputs": [
    {
     "name": "stdout",
     "output_type": "stream",
     "text": [
      "running\n"
     ]
    }
   ],
   "source": [
    "print(lemmatizer.lemmatize('running', pos='n'))"
   ]
  },
  {
   "cell_type": "code",
   "execution_count": 84,
   "metadata": {},
   "outputs": [
    {
     "name": "stdout",
     "output_type": "stream",
     "text": [
      "run\n"
     ]
    }
   ],
   "source": [
    "print(lemmatizer.lemmatize('running', pos='v'))"
   ]
  },
  {
   "cell_type": "code",
   "execution_count": 85,
   "metadata": {},
   "outputs": [
    {
     "name": "stdout",
     "output_type": "stream",
     "text": [
      "running\n"
     ]
    }
   ],
   "source": [
    "print(lemmatizer.lemmatize('running', pos='a'))"
   ]
  },
  {
   "cell_type": "markdown",
   "metadata": {},
   "source": [
    "## Stopworlds\n",
    "\n",
    "* Palavras ou termos que são muito usadas mas normalmente não tem nenhum significado como: artgios: 'é','o','a'...\n",
    "* Técnica usada para pré-processamento de textos."
   ]
  },
  {
   "cell_type": "code",
   "execution_count": 87,
   "metadata": {},
   "outputs": [],
   "source": [
    "stopworlds = nltk.corpus.stopwords.words('portuguese')"
   ]
  },
  {
   "cell_type": "code",
   "execution_count": 88,
   "metadata": {},
   "outputs": [
    {
     "data": {
      "text/plain": [
       "['de',\n",
       " 'a',\n",
       " 'o',\n",
       " 'que',\n",
       " 'e',\n",
       " 'é',\n",
       " 'do',\n",
       " 'da',\n",
       " 'em',\n",
       " 'um',\n",
       " 'para',\n",
       " 'com',\n",
       " 'não',\n",
       " 'uma',\n",
       " 'os',\n",
       " 'no',\n",
       " 'se',\n",
       " 'na',\n",
       " 'por',\n",
       " 'mais',\n",
       " 'as',\n",
       " 'dos',\n",
       " 'como',\n",
       " 'mas',\n",
       " 'ao',\n",
       " 'ele',\n",
       " 'das',\n",
       " 'à',\n",
       " 'seu',\n",
       " 'sua',\n",
       " 'ou',\n",
       " 'quando',\n",
       " 'muito',\n",
       " 'nos',\n",
       " 'já',\n",
       " 'eu',\n",
       " 'também',\n",
       " 'só',\n",
       " 'pelo',\n",
       " 'pela',\n",
       " 'até',\n",
       " 'isso',\n",
       " 'ela',\n",
       " 'entre',\n",
       " 'depois',\n",
       " 'sem',\n",
       " 'mesmo',\n",
       " 'aos',\n",
       " 'seus',\n",
       " 'quem',\n",
       " 'nas',\n",
       " 'me',\n",
       " 'esse',\n",
       " 'eles',\n",
       " 'você',\n",
       " 'essa',\n",
       " 'num',\n",
       " 'nem',\n",
       " 'suas',\n",
       " 'meu',\n",
       " 'às',\n",
       " 'minha',\n",
       " 'numa',\n",
       " 'pelos',\n",
       " 'elas',\n",
       " 'qual',\n",
       " 'nós',\n",
       " 'lhe',\n",
       " 'deles',\n",
       " 'essas',\n",
       " 'esses',\n",
       " 'pelas',\n",
       " 'este',\n",
       " 'dele',\n",
       " 'tu',\n",
       " 'te',\n",
       " 'vocês',\n",
       " 'vos',\n",
       " 'lhes',\n",
       " 'meus',\n",
       " 'minhas',\n",
       " 'teu',\n",
       " 'tua',\n",
       " 'teus',\n",
       " 'tuas',\n",
       " 'nosso',\n",
       " 'nossa',\n",
       " 'nossos',\n",
       " 'nossas',\n",
       " 'dela',\n",
       " 'delas',\n",
       " 'esta',\n",
       " 'estes',\n",
       " 'estas',\n",
       " 'aquele',\n",
       " 'aquela',\n",
       " 'aqueles',\n",
       " 'aquelas',\n",
       " 'isto',\n",
       " 'aquilo',\n",
       " 'estou',\n",
       " 'está',\n",
       " 'estamos',\n",
       " 'estão',\n",
       " 'estive',\n",
       " 'esteve',\n",
       " 'estivemos',\n",
       " 'estiveram',\n",
       " 'estava',\n",
       " 'estávamos',\n",
       " 'estavam',\n",
       " 'estivera',\n",
       " 'estivéramos',\n",
       " 'esteja',\n",
       " 'estejamos',\n",
       " 'estejam',\n",
       " 'estivesse',\n",
       " 'estivéssemos',\n",
       " 'estivessem',\n",
       " 'estiver',\n",
       " 'estivermos',\n",
       " 'estiverem',\n",
       " 'hei',\n",
       " 'há',\n",
       " 'havemos',\n",
       " 'hão',\n",
       " 'houve',\n",
       " 'houvemos',\n",
       " 'houveram',\n",
       " 'houvera',\n",
       " 'houvéramos',\n",
       " 'haja',\n",
       " 'hajamos',\n",
       " 'hajam',\n",
       " 'houvesse',\n",
       " 'houvéssemos',\n",
       " 'houvessem',\n",
       " 'houver',\n",
       " 'houvermos',\n",
       " 'houverem',\n",
       " 'houverei',\n",
       " 'houverá',\n",
       " 'houveremos',\n",
       " 'houverão',\n",
       " 'houveria',\n",
       " 'houveríamos',\n",
       " 'houveriam',\n",
       " 'sou',\n",
       " 'somos',\n",
       " 'são',\n",
       " 'era',\n",
       " 'éramos',\n",
       " 'eram',\n",
       " 'fui',\n",
       " 'foi',\n",
       " 'fomos',\n",
       " 'foram',\n",
       " 'fora',\n",
       " 'fôramos',\n",
       " 'seja',\n",
       " 'sejamos',\n",
       " 'sejam',\n",
       " 'fosse',\n",
       " 'fôssemos',\n",
       " 'fossem',\n",
       " 'for',\n",
       " 'formos',\n",
       " 'forem',\n",
       " 'serei',\n",
       " 'será',\n",
       " 'seremos',\n",
       " 'serão',\n",
       " 'seria',\n",
       " 'seríamos',\n",
       " 'seriam',\n",
       " 'tenho',\n",
       " 'tem',\n",
       " 'temos',\n",
       " 'tém',\n",
       " 'tinha',\n",
       " 'tínhamos',\n",
       " 'tinham',\n",
       " 'tive',\n",
       " 'teve',\n",
       " 'tivemos',\n",
       " 'tiveram',\n",
       " 'tivera',\n",
       " 'tivéramos',\n",
       " 'tenha',\n",
       " 'tenhamos',\n",
       " 'tenham',\n",
       " 'tivesse',\n",
       " 'tivéssemos',\n",
       " 'tivessem',\n",
       " 'tiver',\n",
       " 'tivermos',\n",
       " 'tiverem',\n",
       " 'terei',\n",
       " 'terá',\n",
       " 'teremos',\n",
       " 'terão',\n",
       " 'teria',\n",
       " 'teríamos',\n",
       " 'teriam']"
      ]
     },
     "execution_count": 88,
     "metadata": {},
     "output_type": "execute_result"
    }
   ],
   "source": [
    "stopworlds"
   ]
  },
  {
   "cell_type": "code",
   "execution_count": 92,
   "metadata": {},
   "outputs": [],
   "source": [
    "def RemoviStopWords(instancia):\n",
    "    instancia = instancia.lower()\n",
    "    stopworlds = set(nltk.corpus.stopwords.words('portuguese'))\n",
    "    palavras = [i for i in instancia.split() if not i in stopworlds]\n",
    "    return (\" \".join(palavras))"
   ]
  },
  {
   "cell_type": "code",
   "execution_count": 94,
   "metadata": {},
   "outputs": [],
   "source": [
    "sentenca1 = \"Olá mundo, estou trabalhando com textos no curso de Mineração de Textos do MineirandoDados.com.br\""
   ]
  },
  {
   "cell_type": "code",
   "execution_count": 96,
   "metadata": {},
   "outputs": [
    {
     "data": {
      "text/plain": [
       "'olá mundo, trabalhando textos curso mineração textos mineirandodados.com.br'"
      ]
     },
     "execution_count": 96,
     "metadata": {},
     "output_type": "execute_result"
    }
   ],
   "source": [
    "RemoviStopWords(sentenca1)"
   ]
  },
  {
   "cell_type": "code",
   "execution_count": 97,
   "metadata": {},
   "outputs": [],
   "source": [
    "sentenca2 = \"Seu trabalho de NLP será super interessante com as aulas de Mineração de textos\""
   ]
  },
  {
   "cell_type": "code",
   "execution_count": 98,
   "metadata": {},
   "outputs": [
    {
     "data": {
      "text/plain": [
       "'trabalho nlp super interessante aulas mineração textos'"
      ]
     },
     "execution_count": 98,
     "metadata": {},
     "output_type": "execute_result"
    }
   ],
   "source": [
    "RemoviStopWords(sentenca2)"
   ]
  },
  {
   "cell_type": "markdown",
   "metadata": {},
   "source": [
    "## Part of Speech\n",
    "\n",
    "* Part of Speech: Na tradução lietral seria Partes da Fala.\n",
    "* Consiste em identificar a função gramatical das palavras em um texto.\n",
    "* A função gramatical muda conforme é empregada a palavra no texto."
   ]
  },
  {
   "cell_type": "code",
   "execution_count": 99,
   "metadata": {},
   "outputs": [
    {
     "data": {
      "text/plain": [
       "[('O', 'NNP'),\n",
       " ('blog', 'NN'),\n",
       " ('MinerandoDados', 'NNP'),\n",
       " ('é', 'NNP'),\n",
       " ('muito', 'NN'),\n",
       " ('bom', 'NN')]"
      ]
     },
     "execution_count": 99,
     "metadata": {},
     "output_type": "execute_result"
    }
   ],
   "source": [
    "text = nltk.wordpunct_tokenize(\"O blog MinerandoDados é muito bom\")\n",
    "\n",
    "nltk.pos_tag(text)"
   ]
  },
  {
   "cell_type": "code",
   "execution_count": 100,
   "metadata": {},
   "outputs": [
    {
     "data": {
      "text/plain": [
       "[('João', 'NNP'),\n",
       " ('comprou', 'NN'),\n",
       " ('um', 'JJ'),\n",
       " ('presente', 'NN'),\n",
       " ('muito', 'FW'),\n",
       " ('legal', 'JJ')]"
      ]
     },
     "execution_count": 100,
     "metadata": {},
     "output_type": "execute_result"
    }
   ],
   "source": [
    "text = nltk.wordpunct_tokenize(\"João comprou um presente muito legal\")\n",
    "\n",
    "nltk.pos_tag(text)"
   ]
  },
  {
   "cell_type": "code",
   "execution_count": 101,
   "metadata": {},
   "outputs": [
    {
     "name": "stdout",
     "output_type": "stream",
     "text": [
      "NNP: noun, proper, singular\n",
      "    Motown Venneboerger Czestochwa Ranzer Conchita Trumplane Christos\n",
      "    Oceanside Escobar Kreisler Sawyer Cougar Yvette Ervin ODI Darryl CTCA\n",
      "    Shannon A.K.C. Meltex Liverpool ...\n"
     ]
    }
   ],
   "source": [
    "nltk.help.upenn_tagset('NNP')"
   ]
  },
  {
   "cell_type": "code",
   "execution_count": 102,
   "metadata": {},
   "outputs": [
    {
     "name": "stdout",
     "output_type": "stream",
     "text": [
      "JJ: adjective or numeral, ordinal\n",
      "    third ill-mannered pre-war regrettable oiled calamitous first separable\n",
      "    ectoplasmic battery-powered participatory fourth still-to-be-named\n",
      "    multilingual multi-disciplinary ...\n"
     ]
    }
   ],
   "source": [
    "nltk.help.upenn_tagset('JJ')"
   ]
  },
  {
   "cell_type": "code",
   "execution_count": 103,
   "metadata": {},
   "outputs": [
    {
     "name": "stdout",
     "output_type": "stream",
     "text": [
      "NN: noun, common, singular or mass\n",
      "    common-carrier cabbage knuckle-duster Casino afghan shed thermostat\n",
      "    investment slide humour falloff slick wind hyena override subhumanity\n",
      "    machinist ...\n"
     ]
    }
   ],
   "source": [
    "nltk.help.upenn_tagset('NN')"
   ]
  },
  {
   "cell_type": "code",
   "execution_count": 104,
   "metadata": {},
   "outputs": [
    {
     "name": "stdout",
     "output_type": "stream",
     "text": [
      "FW: foreign word\n",
      "    gemeinschaft hund ich jeux habeas Haementeria Herr K'ang-si vous\n",
      "    lutihaw alai je jour objets salutaris fille quibusdam pas trop Monte\n",
      "    terram fiche oui corporis ...\n"
     ]
    }
   ],
   "source": [
    "nltk.help.upenn_tagset('FW')"
   ]
  },
  {
   "cell_type": "code",
   "execution_count": 105,
   "metadata": {},
   "outputs": [
    {
     "data": {
      "text/plain": [
       "[('My', 'PRP$'),\n",
       " ('print', 'NN'),\n",
       " ('is', 'VBZ'),\n",
       " ('very', 'RB'),\n",
       " ('good', 'JJ')]"
      ]
     },
     "execution_count": 105,
     "metadata": {},
     "output_type": "execute_result"
    }
   ],
   "source": [
    "text = nltk.wordpunct_tokenize(\"My print is very good\")\n",
    "\n",
    "nltk.pos_tag(text)"
   ]
  },
  {
   "cell_type": "code",
   "execution_count": 106,
   "metadata": {},
   "outputs": [
    {
     "name": "stdout",
     "output_type": "stream",
     "text": [
      "PRP$: pronoun, possessive\n",
      "    her his mine my our ours their thy your\n"
     ]
    }
   ],
   "source": [
    "nltk.help.upenn_tagset('PRP$')"
   ]
  },
  {
   "cell_type": "code",
   "execution_count": 107,
   "metadata": {},
   "outputs": [
    {
     "name": "stdout",
     "output_type": "stream",
     "text": [
      "VBZ: verb, present tense, 3rd person singular\n",
      "    bases reconstructs marks mixes displeases seals carps weaves snatches\n",
      "    slumps stretches authorizes smolders pictures emerges stockpiles\n",
      "    seduces fizzes uses bolsters slaps speaks pleads ...\n"
     ]
    }
   ],
   "source": [
    "nltk.help.upenn_tagset('VBZ')"
   ]
  },
  {
   "cell_type": "code",
   "execution_count": 108,
   "metadata": {},
   "outputs": [
    {
     "name": "stdout",
     "output_type": "stream",
     "text": [
      "RB: adverb\n",
      "    occasionally unabatingly maddeningly adventurously professedly\n",
      "    stirringly prominently technologically magisterially predominately\n",
      "    swiftly fiscally pitilessly ...\n"
     ]
    }
   ],
   "source": [
    "nltk.help.upenn_tagset('RB')"
   ]
  },
  {
   "cell_type": "code",
   "execution_count": 109,
   "metadata": {},
   "outputs": [
    {
     "data": {
      "text/plain": [
       "[('Hi', 'NNP'),\n",
       " (',', ','),\n",
       " ('my', 'PRP$'),\n",
       " ('name', 'NN'),\n",
       " ('is', 'VBZ'),\n",
       " ('Vitor', 'NNP'),\n",
       " (',', ','),\n",
       " ('I', 'PRP'),\n",
       " ('want', 'VBP'),\n",
       " ('to', 'TO'),\n",
       " ('print', 'VB'),\n",
       " ('the', 'DT'),\n",
       " ('outstanding', 'JJ'),\n",
       " ('invoice', 'NN')]"
      ]
     },
     "execution_count": 109,
     "metadata": {},
     "output_type": "execute_result"
    }
   ],
   "source": [
    "text = nltk.wordpunct_tokenize(\"Hi, my name is Vitor, I want to print the outstanding invoice\")\n",
    "\n",
    "nltk.pos_tag(text)"
   ]
  },
  {
   "cell_type": "markdown",
   "metadata": {},
   "source": [
    "## Trabalhando com Wordnet\n",
    "\n",
    "* O wordnet é um grande banco de dados léxico de substantivo, verbos, adjetivos e advérbios.\n",
    "* Essas palavras são agrupadas em conjuntos de sinônimos, cada um expressando um conceito distinto.\n",
    "* Os sinonimos são interligados pelo seu significado semantico conceitual a suas relações léxicas.\n",
    "* O wordnet é uma grande rede de conceitos interligados e é amplamente utilziada em pesquisas no mundo todo.\n",
    "* O NLYK contem uma interface de acesso ao Wordnet.\n",
    "\n",
    "OBS:\n",
    "\n",
    "* Existem diversas variações do Wordnet para outros idiomas.\n",
    "* Para portugues ainda existem poucas iniciativas."
   ]
  },
  {
   "cell_type": "markdown",
   "metadata": {},
   "source": [
    "### Consulta um sinonimo para a palavra BIKE"
   ]
  },
  {
   "cell_type": "code",
   "execution_count": 110,
   "metadata": {},
   "outputs": [
    {
     "data": {
      "text/plain": [
       "[Synset('motorcycle.n.01'), Synset('bicycle.n.01'), Synset('bicycle.v.01')]"
      ]
     },
     "execution_count": 110,
     "metadata": {},
     "output_type": "execute_result"
    }
   ],
   "source": [
    "from nltk.corpus import wordnet\n",
    "wordnet.synsets('bike')"
   ]
  },
  {
   "cell_type": "markdown",
   "metadata": {},
   "source": [
    "### Definições da palavra BIKE"
   ]
  },
  {
   "cell_type": "code",
   "execution_count": 111,
   "metadata": {},
   "outputs": [
    {
     "data": {
      "text/plain": [
       "'a wheeled vehicle that has two wheels and is moved by foot pedals'"
      ]
     },
     "execution_count": 111,
     "metadata": {},
     "output_type": "execute_result"
    }
   ],
   "source": [
    "wordnet.synset('bicycle.n.01').definition()"
   ]
  },
  {
   "cell_type": "code",
   "execution_count": 112,
   "metadata": {},
   "outputs": [],
   "source": [
    "# veículo de rodas que tem duas rodas e é movido por pedais."
   ]
  },
  {
   "cell_type": "code",
   "execution_count": 113,
   "metadata": {},
   "outputs": [
    {
     "data": {
      "text/plain": [
       "'a motor vehicle with two wheels and a strong frame'"
      ]
     },
     "execution_count": 113,
     "metadata": {},
     "output_type": "execute_result"
    }
   ],
   "source": [
    "wordnet.synset('motorcycle.n.01').definition()"
   ]
  },
  {
   "cell_type": "code",
   "execution_count": 114,
   "metadata": {},
   "outputs": [],
   "source": [
    "# Veículo a motor com duas rodas e um quadro forte."
   ]
  },
  {
   "cell_type": "markdown",
   "metadata": {},
   "source": [
    "### Consulta hierarquia de termos"
   ]
  },
  {
   "cell_type": "code",
   "execution_count": 115,
   "metadata": {},
   "outputs": [
    {
     "data": {
      "text/plain": [
       "[Synset('bicycle-built-for-two.n.01'),\n",
       " Synset('mountain_bike.n.01'),\n",
       " Synset('ordinary.n.04'),\n",
       " Synset('push-bike.n.01'),\n",
       " Synset('safety_bicycle.n.01'),\n",
       " Synset('velocipede.n.01')]"
      ]
     },
     "execution_count": 115,
     "metadata": {},
     "output_type": "execute_result"
    }
   ],
   "source": [
    "# Hiponimos da palavra bicycle.\n",
    "# Conceitos mais especificos\n",
    "wordnet.synset('bicycle.n.01').hyponyms()"
   ]
  },
  {
   "cell_type": "code",
   "execution_count": 118,
   "metadata": {},
   "outputs": [
    {
     "data": {
      "text/plain": [
       "[Synset('wheeled_vehicle.n.01')]"
      ]
     },
     "execution_count": 118,
     "metadata": {},
     "output_type": "execute_result"
    }
   ],
   "source": [
    "# Hiperonimos da palavra bicycle.\n",
    "# Conceitos mais especificos\n",
    "wordnet.synset('bicycle.n.01').hypernyms()"
   ]
  },
  {
   "cell_type": "code",
   "execution_count": 119,
   "metadata": {},
   "outputs": [
    {
     "data": {
      "text/plain": [
       "[Synset('bicycle_seat.n.01'),\n",
       " Synset('bicycle_wheel.n.01'),\n",
       " Synset('chain.n.03'),\n",
       " Synset('coaster_brake.n.01'),\n",
       " Synset('handlebar.n.01'),\n",
       " Synset('kickstand.n.01'),\n",
       " Synset('mudguard.n.01'),\n",
       " Synset('pedal.n.02'),\n",
       " Synset('sprocket.n.02')]"
      ]
     },
     "execution_count": 119,
     "metadata": {},
     "output_type": "execute_result"
    }
   ],
   "source": [
    "# Meronyms da palavra bicycle.\n",
    "# Conceitos mais especificos\n",
    "wordnet.synset('bicycle.n.01').part_meronyms()"
   ]
  },
  {
   "cell_type": "code",
   "execution_count": null,
   "metadata": {},
   "outputs": [],
   "source": []
  }
 ],
 "metadata": {
  "kernelspec": {
   "display_name": "Python 3",
   "language": "python",
   "name": "python3"
  },
  "language_info": {
   "codemirror_mode": {
    "name": "ipython",
    "version": 3
   },
   "file_extension": ".py",
   "mimetype": "text/x-python",
   "name": "python",
   "nbconvert_exporter": "python",
   "pygments_lexer": "ipython3",
   "version": "3.7.6"
  }
 },
 "nbformat": 4,
 "nbformat_minor": 4
}
